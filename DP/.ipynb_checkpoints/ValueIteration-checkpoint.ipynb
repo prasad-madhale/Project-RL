{
 "cells": [
  {
   "cell_type": "markdown",
   "metadata": {},
   "source": [
    "# Dynamic Programming\n",
    "\n",
    "In this notebook we will implement the *value iteration* algorithm and apply it to the Frozen Lake and Gambler's environments. "
   ]
  },
  {
   "cell_type": "markdown",
   "metadata": {},
   "source": [
    "### Instructions to get the gym-gamblers environment running:\n",
    "I have created a gym environment for the gambler's problem which is inside the gym-gamblers folder.\n",
    "I have also uploaded the env as a repo [here](https://github.com/prasadchelsea33/gym-gamblers).\n",
    "\n",
    "*Instructions to install environment:*\n",
    "1. cd into gym-gamblers directory\n",
    "2. Run the following command\n",
    "```console\n",
    "pip install -e .\n",
    "```\n",
    "3. Restart the kernel for this jupyter notebook before running the import statements"
   ]
  },
  {
   "cell_type": "code",
   "execution_count": 20,
   "metadata": {},
   "outputs": [],
   "source": [
    "import numpy as np\n",
    "import matplotlib.pyplot as plt\n",
    "from gym.envs.toy_text.frozen_lake import FrozenLakeEnv\n",
    "from gym_gamblers.envs.gamblers_env import GamblersEnv"
   ]
  },
  {
   "cell_type": "markdown",
   "metadata": {},
   "source": [
    "# Step 1:\n",
    "\n",
    "Implement value iteration for the gambler's problem, detailed below.\n",
    "\n",
    "#### Gambler's Environment\n",
    "\n",
    "This code uses the Gambler's Problem detailed in Example 4.3 in [SB](http://incompleteideas.net/book/the-book-2nd.html). The important details are described here:\n",
    "\n",
    "A gambler has the opportunity to make bets on the out comes of a sequence of coin flips. If the coin comes up as heads, he wins as many dollars as he has staked on that flip; if it is tails, he loses his stake. The game ends when the either the gambler reaches his goal of \\$100 or he loses all his money. On each flip, the gambler must decide how much of his capital to stake.\n",
    "\n",
    "The state-value function gives the probability of winning from each state. A policy is a mapping from the amount of capital to states. The optimal policy maximizes the probablitiy of reaching the goal. Let $p_h$ denote the probability of the coin coming up heads.\n",
    "\n",
    "* **State Space:** $s \\in \\{1, 2, ..., 100\\}$\n",
    "* **Action Space:** $a \\in \\{0, 1, ..., \\min(s, 100-s)\\}$\n",
    "* **Reward:** $\\begin{cases}\n",
    "                       +1 & s = 100 \\\\\n",
    "                       0 & otherwise\n",
    "               \\end{cases}$"
   ]
  },
  {
   "cell_type": "code",
   "execution_count": 21,
   "metadata": {},
   "outputs": [],
   "source": [
    "def gamblers_value_iteration(env, theta=1e-4, gamma=1.0):\n",
    "    \"\"\"\n",
    "    Args:\n",
    "        env: OpenAI Gym environment\n",
    "        theta: Threshold used to determine accuracy of estimation\n",
    "        gamma: Discount factor\n",
    "    Returns:\n",
    "        A tuple (policy, value function)\n",
    "    \"\"\"\n",
    "    V = np.zeros(101)\n",
    "    policy = np.zeros(100)\n",
    "    \n",
    "    while True:\n",
    "        delta = 0\n",
    "        for state in range(1, env.nS):\n",
    "            #oldvalue\n",
    "            v = V[state]\n",
    "            UpdatedValues = evalimprovestep(env, state, V, gamma)                        \n",
    "            V[state] = np.max(UpdatedValues)\n",
    "            delta = max(delta, np.abs(v - V[state]))\n",
    "        \n",
    "        if delta < theta:\n",
    "            break\n",
    "\n",
    "    # policy creation\n",
    "    for state in range(1, env.nS):\n",
    "        values = evalimprovestep(env, state, V, gamma)\n",
    "        policy[state] = np.argmax(np.round(values[1:], 4))\n",
    "        \n",
    "    return policy, V"
   ]
  },
  {
   "cell_type": "code",
   "execution_count": 22,
   "metadata": {},
   "outputs": [],
   "source": [
    "def evalimprovestep(env, state, V, gamma):\n",
    "    '''\n",
    "    Args:\n",
    "        env - environment on which the value iteration is run\n",
    "        state - state(capital) whose value has to be evaluated and improved\n",
    "        V - set of values\n",
    "        gamma - discount factor\n",
    "    Returns:\n",
    "        a list of values for taking each action from given state\n",
    "    '''\n",
    "    num_of_actions = min(state, 100-state) + 1\n",
    "    updatedVaues = np.zeros(num_of_actions)\n",
    "    \n",
    "    for action in range(num_of_actions):\n",
    "        for next_state, prob, reward, done in env.P(state,action):\n",
    "            updatedVaues[action] += prob * (reward + gamma * V[next_state])\n",
    " \n",
    "    return updatedVaues\n",
    "    "
   ]
  },
  {
   "cell_type": "markdown",
   "metadata": {},
   "source": [
    "# Step 2\n",
    "\n",
    "Plot the results in terms of the greedy policy as a function of state for your calculated value function. Breaking ties randomly."
   ]
  },
  {
   "cell_type": "code",
   "execution_count": 23,
   "metadata": {},
   "outputs": [
    {
     "data": {
      "image/png": "[encoded data removed]",
      "text/plain": [
       "<Figure size 432x288 with 1 Axes>"
      ]
     },
     "metadata": {
      "needs_background": "light"
     },
     "output_type": "display_data"
    },
    {
     "data": {
      "image/png": "[encoded data removed]",
      "text/plain": [
       "<Figure size 432x288 with 1 Axes>"
      ]
     },
     "metadata": {
      "needs_background": "light"
     },
     "output_type": "display_data"
    }
   ],
   "source": [
    "# creates object of the gambler environment\n",
    "gambler_env = GamblersEnv()\n",
    "policy, V = gamblers_value_iteration(gambler_env)\n",
    "\n",
    "# plots policy obtained from running value iteration on the Gambler Env.\n",
    "plt.figure()\n",
    "plt.plot(policy)\n",
    "plt.xticks([1,25,50,75,99])\n",
    "plt.ylabel(\"Final Policy (Stake)\")\n",
    "plt.xlabel(\"Capital\")\n",
    "plt.show()\n",
    "\n",
    "# plots the values obtained from running value iteration on the Gambler env.\n",
    "plt.figure()\n",
    "plt.plot(V[1:99])\n",
    "plt.xticks([1,25,50,75,99])\n",
    "plt.ylabel(\"Value Estimates\")\n",
    "plt.xlabel(\"Capital\")\n",
    "plt.show()\n"
   ]
  },
  {
   "cell_type": "markdown",
   "metadata": {},
   "source": [
    "### Class of possible optimal solutions for the problem setting (100 capital, 0.4p) given in the problem.\n",
    "##### There can be more than one optimal solutions to the Gambler's problem.\n",
    "We can get a family of optimal solutions to the Gambler's problem based on the way in which we break ties.\n",
    "\n",
    "*So, some of the optimal solutions for the problem are:*\n",
    "1. Betting the maximum if the capital is below 50%. So, in this policy we bet maximum for capital below 50. And, just enough to get to goal capital if the capital(cash in hand) is above 50%.\n",
    "2. Optimal Policy using simple argmax which breaks ties by picking the first maximum occurrence\n",
    "![Otimal Policy using Argmax](./argmax.png)\n",
    "3. Optimal solution obtained by breaking ties by picking last occurrence for argmax\n",
    "![Optimal Policy using reverse Argmax](./last_occurrence.png)\n",
    "4. Optimal solution obtained by breaking ties randomly\n",
    "![Optimal Policy by breaking ties randomly](./random.png)"
   ]
  },
  {
   "cell_type": "markdown",
   "metadata": {},
   "source": [
    "# Step 3:\n",
    "\n",
    "Implementing value iteration for any arbritary Gym environemnt provided there is a perfect model of the environment as a MDP. In order for a OpenAI Gym environment to have this perfect model it must have nS, nA, and P as attributes.\n",
    "\n",
    "* **P:** Represents the transition probabilities of the environment. P[s][a] is the tuple (prob, next_state, reward, done)\n",
    "* **nS:** Number of states in the environment\n",
    "* **nA:** Number of actions in the environment\n",
    "\n",
    "Note that I have added a max iterations argument to this function. While this is not necessary, it ensures that we will never be stuck running forever due to a bad $\\theta$."
   ]
  },
  {
   "cell_type": "code",
   "execution_count": 24,
   "metadata": {},
   "outputs": [],
   "source": [
    "def gym_value_iteration(env, theta=1e-4, gamma=1.0, max_iterations=1000):\n",
    "    \"\"\"\n",
    "    Args:\n",
    "        env: OpenAI Gym environment which has P, nS, and nA as attributes\n",
    "        theta: Threshold used to determine accuracy of estimation\n",
    "        gamma: Discount factor\n",
    "        max_iterations: Maximum number of value iterations to run\n",
    "    Returns:\n",
    "        A tuple (policy, value function)\n",
    "    \"\"\"\n",
    "    \n",
    "    V = np.zeros(env.nS)\n",
    "    policy = np.zeros(env.nS)\n",
    "    iteration = 0\n",
    "    \n",
    "    while True:\n",
    "        iteration += 1\n",
    "        delta = 0\n",
    "        for state in range(env.nS):\n",
    "            v = V[state]\n",
    "            UpdatedValues = bellmanUpdate(env, state, V, gamma)\n",
    "            V[state] = np.max(UpdatedValues)\n",
    "            delta = max(delta, np.abs(v - V[state]))\n",
    "        \n",
    "        if delta < theta:\n",
    "            break\n",
    "        \n",
    "        if iteration > max_iterations:\n",
    "            break\n",
    "\n",
    "    # policy creation\n",
    "    for state in range(env.nS):\n",
    "        values = bellmanUpdate(env, state, V, gamma)\n",
    "        \n",
    "        # do not break ties randomly to obtain the frozen lake environment's optimal policy\n",
    "        best_action = np.argmax(values)\n",
    "        policy[state] = best_action \n",
    "        \n",
    "    return policy, V"
   ]
  },
  {
   "cell_type": "code",
   "execution_count": 25,
   "metadata": {},
   "outputs": [],
   "source": [
    "def bellmanUpdate(env, state, V, gamma):\n",
    "    '''\n",
    "    Args:\n",
    "        env - environment on which the generalized value iteration is applied\n",
    "        state - state (capital) whose value has to be evaluated and improved\n",
    "        V - dict of values for the given environment\n",
    "        gamma - discount factor\n",
    "    Returns:\n",
    "        a dict of values for taking each action from given state\n",
    "    '''\n",
    "    updatedVaues = np.zeros(env.nA)\n",
    "    \n",
    "    for action in range(env.nA):\n",
    "        for prob,next_state,reward,done in env.P[state][action]:\n",
    "            updatedVaues[action] += prob * (reward + gamma * V[next_state])\n",
    " \n",
    "    return updatedVaues"
   ]
  },
  {
   "cell_type": "markdown",
   "metadata": {},
   "source": [
    "# Step 4\n",
    "### Test our implementation on the Frozen Lake environment"
   ]
  },
  {
   "cell_type": "code",
   "execution_count": 26,
   "metadata": {},
   "outputs": [],
   "source": [
    "frozen_lake = FrozenLakeEnv()\n",
    "policy, V = gym_value_iteration(frozen_lake)\n",
    "\n",
    "# assert expected policy output is the same as our calculated policy ouputs\n",
    "expected_policy = np.array([0, 3, 3, 3, 0, 0, 0, 0, 3, 1, 0, 0, 0, 2, 1, 0])\n",
    "np.testing.assert_array_equal(policy, expected_policy)"
   ]
  },
  {
   "cell_type": "code",
   "execution_count": null,
   "metadata": {},
   "outputs": [],
   "source": []
  }
 ],
 "metadata": {
  "kernelspec": {
   "display_name": "Python 3",
   "language": "python",
   "name": "python3"
  },
  "language_info": {
   "codemirror_mode": {
    "name": "ipython",
    "version": 3
   },
   "file_extension": ".py",
   "mimetype": "text/x-python",
   "name": "python",
   "nbconvert_exporter": "python",
   "pygments_lexer": "ipython3",
   "version": "3.6.7"
  }
 },
 "nbformat": 4,
 "nbformat_minor": 2
}
